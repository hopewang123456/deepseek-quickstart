{
 "cells": [
  {
   "cell_type": "code",
   "execution_count": 1,
   "id": "368d2328-b324-41d4-8d68-51c98d7ee4ce",
   "metadata": {},
   "outputs": [
    {
     "name": "stdout",
     "output_type": "stream",
     "text": [
      "sk-bef7bd0c23094cecbbeff193c9e136ba\n"
     ]
    }
   ],
   "source": [
    "import os\n",
    "\n",
    "api_key = os.getenv(\"DEEPSEEK_API_KEY\")\n",
    "\n",
    "print(api_key)"
   ]
  },
  {
   "cell_type": "code",
   "execution_count": 2,
   "id": "a8a9cbb0-a40a-4f7d-935c-ca4e88b6f976",
   "metadata": {},
   "outputs": [],
   "source": [
    "from glob import glob\n",
    "\n",
    "text_lines = []\n",
    "\n",
    "for file_path in glob(\"mfd.md\", recursive=True):\n",
    "    with open(file_path, \"r\") as file:\n",
    "        file_text = file.read()\n",
    "\n",
    "    text_lines += file_text.split(\"# \")"
   ]
  },
  {
   "cell_type": "code",
   "execution_count": 3,
   "id": "6eb5aa3a-7fd4-4ad3-9f56-aef168872853",
   "metadata": {},
   "outputs": [
    {
     "data": {
      "text/plain": [
       "30"
      ]
     },
     "execution_count": 3,
     "metadata": {},
     "output_type": "execute_result"
    }
   ],
   "source": [
    "len(text_lines)"
   ]
  },
  {
   "cell_type": "code",
   "execution_count": 4,
   "id": "3ba34189-9922-4370-8cd5-1346ffc577d8",
   "metadata": {},
   "outputs": [],
   "source": [
    "from openai import OpenAI\n",
    "\n",
    "deepseek_client = OpenAI(\n",
    "    api_key=api_key,\n",
    "    base_url=\"https://api.deepseek.com/v1\"\n",
    ")"
   ]
  },
  {
   "cell_type": "code",
   "execution_count": 5,
   "id": "e7e1b2ad-8418-4273-ac48-6782613817de",
   "metadata": {},
   "outputs": [
    {
     "name": "stderr",
     "output_type": "stream",
     "text": [
      "/home/hopewang123456/conda3/envs/deepseek/lib/python3.13/site-packages/tqdm/auto.py:21: TqdmWarning: IProgress not found. Please update jupyter and ipywidgets. See https://ipywidgets.readthedocs.io/en/stable/user_install.html\n",
      "  from .autonotebook import tqdm as notebook_tqdm\n"
     ]
    }
   ],
   "source": [
    "import os\n",
    "os.environ[\"HF_ENDPOINT\"] = \"https://hf-mirror.com\"\n",
    "from pymilvus import model as milvus_model\n",
    "embedding_model = milvus_model.DefaultEmbeddingFunction()"
   ]
  },
  {
   "cell_type": "code",
   "execution_count": 9,
   "id": "450d004c-9085-4b19-87ac-661d5fe449ae",
   "metadata": {},
   "outputs": [
    {
     "name": "stdout",
     "output_type": "stream",
     "text": [
      "768\n",
      "[-0.04836059  0.07163021 -0.01130063 -0.03789341 -0.03320651 -0.01318453\n",
      " -0.03041721 -0.02269495 -0.02317858 -0.00426026]\n"
     ]
    }
   ],
   "source": [
    "test_embedding = embedding_model.encode_queries([\"This is a test\"])[0]\n",
    "embedding_dim = len(test_embedding)\n",
    "print(embedding_dim)\n",
    "print(test_embedding[:10])"
   ]
  },
  {
   "cell_type": "code",
   "execution_count": 10,
   "id": "dd67834c-d7a5-4ad4-bf19-1f9c5fbb1d0c",
   "metadata": {},
   "outputs": [],
   "source": [
    "from pymilvus import MilvusClient\n",
    "\n",
    "milvus_client = MilvusClient(uri=\"./milvus_demo.db\")\n",
    "\n",
    "collection_name = \"my_rag_mfd_collection\""
   ]
  },
  {
   "cell_type": "code",
   "execution_count": 11,
   "id": "2a10f041-ab63-4ef1-bb8e-0841ee5d557a",
   "metadata": {},
   "outputs": [],
   "source": [
    "if milvus_client.has_collection(collection_name):\n",
    "    milvus_client.drop_collection(collection_name)"
   ]
  },
  {
   "cell_type": "code",
   "execution_count": 12,
   "id": "f96b6fcb-c999-4ec4-bb4e-d442063d4ee1",
   "metadata": {},
   "outputs": [],
   "source": [
    "milvus_client.create_collection(\n",
    "    collection_name=collection_name,\n",
    "    dimension=embedding_dim,\n",
    "    metric_type=\"IP\",\n",
    "    consistency_level=\"Strong\",\n",
    ")"
   ]
  },
  {
   "cell_type": "code",
   "execution_count": 13,
   "id": "ce81c800-2b0e-4f14-b66c-1402118c5552",
   "metadata": {},
   "outputs": [
    {
     "name": "stderr",
     "output_type": "stream",
     "text": [
      "Creating embeddings: 100%|██████████████████████████████████████████████████████████| 30/30 [00:00<00:00, 172842.20it/s]\n"
     ]
    },
    {
     "data": {
      "text/plain": [
       "{'insert_count': 30, 'ids': [0, 1, 2, 3, 4, 5, 6, 7, 8, 9, 10, 11, 12, 13, 14, 15, 16, 17, 18, 19, 20, 21, 22, 23, 24, 25, 26, 27, 28, 29], 'cost': 0}"
      ]
     },
     "execution_count": 13,
     "metadata": {},
     "output_type": "execute_result"
    }
   ],
   "source": [
    "from tqdm import tqdm\n",
    "\n",
    "data = []\n",
    "\n",
    "doc_embeddings = embedding_model.encode_documents(text_lines)\n",
    "\n",
    "for i, line in enumerate(tqdm(text_lines, desc=\"Creating embeddings\")):\n",
    "    data.append({\"id\": i, \"vector\": doc_embeddings[i], \"text\": line})\n",
    "\n",
    "milvus_client.insert(collection_name=collection_name, data=data)"
   ]
  },
  {
   "cell_type": "code",
   "execution_count": 14,
   "id": "009ef5d1-7d61-4f15-943d-e54564e26c46",
   "metadata": {},
   "outputs": [],
   "source": [
    "question1 = \"我们小区的垃圾桶被小孩弄坏，应该如何用法律教育他们？\""
   ]
  },
  {
   "cell_type": "code",
   "execution_count": 15,
   "id": "26fdd6f2-e922-425a-b3c1-167288b20e50",
   "metadata": {},
   "outputs": [],
   "source": [
    "question2 = \"父母留给我的遗产被银行抢占，说未能提供父母是我父母的法律条文，怎么办？\""
   ]
  },
  {
   "cell_type": "code",
   "execution_count": 17,
   "id": "4f3cec46-7807-44ea-a75c-91bff4612f36",
   "metadata": {},
   "outputs": [],
   "source": [
    "search_res = milvus_client.search(\n",
    "    collection_name=collection_name,\n",
    "    data=embedding_model.encode_queries(\n",
    "        [question1,question2]\n",
    "    ),\n",
    "    limit=3,\n",
    "    search_params={\"metric_type\": \"IP\",\"params\":{}},\n",
    "    output_fields=[\"text\"],\n",
    ")"
   ]
  },
  {
   "cell_type": "code",
   "execution_count": 18,
   "id": "104dac95-4cba-47e6-bc12-05e7439115cd",
   "metadata": {},
   "outputs": [
    {
     "name": "stdout",
     "output_type": "stream",
     "text": [
      "[\n",
      "    [\n",
      "        \"\\u4e8c\\u3001\\u6743\\u5229\\u8d28\\u6743\\n\\n**\\u7b2c\\u56db\\u767e\\u56db\\u5341\\u4e5d\\u6761** \\u53ef\\u4ee5\\u51fa\\u8d28\\u7684\\u6743\\u5229\\u5305\\u62ec\\uff1a\\n\\uff08\\u4e00\\uff09\\u6c47\\u7968\\u3001\\u672c\\u7968\\u3001\\u652f\\u7968\\uff1b\\n\\uff08\\u4e8c\\uff09\\u503a\\u5238\\u3001\\u5b58\\u6b3e\\u5355\\uff1b\\n\\uff08\\u4e09\\uff09\\u4ed3\\u5355\\u3001\\u63d0\\u5355\\uff1b\\n\\uff08\\u56db\\uff09\\u53ef\\u4ee5\\u8f6c\\u8ba9\\u7684\\u57fa\\u91d1\\u4efd\\u989d\\u3001\\u80a1\\u6743\\uff1b\\n\\uff08\\u4e94\\uff09\\u53ef\\u4ee5\\u8f6c\\u8ba9\\u7684\\u6ce8\\u518c\\u5546\\u6807\\u4e13\\u7528\\u6743\\u3001\\u4e13\\u5229\\u6743\\u3001\\u8457\\u4f5c\\u6743\\u7b49\\u77e5\\u8bc6\\u4ea7\\u6743\\u4e2d\\u7684\\u8d22\\u4ea7\\u6743\\uff1b\\n\\uff08\\u516d\\uff09\\u5e94\\u6536\\u8d26\\u6b3e\\uff1b\\n\\uff08\\u4e03\\uff09\\u6cd5\\u5f8b\\u3001\\u884c\\u653f\\u6cd5\\u89c4\\u89c4\\u5b9a\\u53ef\\u4ee5\\u51fa\\u8d28\\u7684\\u5176\\u4ed6\\u8d22\\u4ea7\\u6743\\u5229\\u3002\\n\\n**\\u7b2c\\u56db\\u767e\\u4e94\\u5341\\u6761** \\u4ee5\\u6c47\\u7968\\u3001\\u672c\\u7968\\u3001\\u652f\\u7968\\u3001\\u503a\\u5238\\u3001\\u5b58\\u6b3e\\u5355\\u3001\\u4ed3\\u5355\\u3001\\u63d0\\u5355\\u51fa\\u8d28\\u7684\\uff0c\\u5f53\\u4e8b\\u4eba\\u5e94\\u5f53\\u8ba2\\u7acb\\u4e66\\u9762\\u5408\\u540c\\u3002\\u8d28\\u6743\\u81ea\\u6743\\u5229\\u51ed\\u8bc1\\u4ea4\\u4ed8\\u4e4b\\u65e5\\u8d77\\u8bbe\\u7acb\\u3002\\n\\n**\\u7b2c\\u56db\\u767e\\u4e94\\u5341\\u4e00\\u6761** \\u4ee5\\u8bb0\\u540d\\u80a1\\u7968\\u51fa\\u8d28\\u7684\\uff0c\\u5f53\\u4e8b\\u4eba\\u5e94\\u5f53\\u8ba2\\u7acb\\u4e66\\u9762\\u5408\\u540c\\u3002\\u8d28\\u6743\\u81ea\\u80a1\\u7968\\u4ea4\\u4ed8\\u4e4b\\u65e5\\u8d77\\u8bbe\\u7acb\\u3002\\n\\u4ee5\\u672a\\u4e0a\\u5e02\\u516c\\u53f8\\u80a1\\u6743\\u51fa\\u8d28\\u7684\\uff0c\\u9002\\u7528\\u516c\\u53f8\\u6cd5\\u6709\\u5173\\u80a1\\u6743\\u8f6c\\u8ba9\\u7684\\u89c4\\u5b9a\\u3002\\n\\n**\\u7b2c\\u56db\\u767e\\u4e94\\u5341\\u4e8c\\u6761** \\u4ee5\\u53ef\\u4ee5\\u8f6c\\u8ba9\\u7684\\u57fa\\u91d1\\u4efd\\u989d\\u3001\\u80a1\\u6743\\u51fa\\u8d28\\u7684\\uff0c\\u5f53\\u4e8b\\u4eba\\u5e94\\u5f53\\u8ba2\\u7acb\\u4e66\\u9762\\u5408\\u540c\\u3002\\u8d28\\u6743\\u81ea\\u57fa\\u91d1\\u4efd\\u989d\\u3001\\u80a1\\u6743\\u767b\\u8bb0\\u4e8e\\u8bc1\\u5238\\u767b\\u8bb0\\u7ed3\\u7b97\\u673a\\u6784\\u6216\\u8005\\u516c\\u53f8\\u7ae0\\u7a0b\\u8f7d\\u660e\\u7684\\u80a1\\u6743\\u767b\\u8bb0\\u7c3f\\u65f6\\u8bbe\\u7acb\\u3002\\n\\u4ee5\\u672a\\u4e0a\\u5e02\\u516c\\u53f8\\u80a1\\u6743\\u51fa\\u8d28\\u7684\\uff0c\\u9002\\u7528\\u516c\\u53f8\\u6cd5\\u6709\\u5173\\u80a1\\u6743\\u8f6c\\u8ba9\\u7684\\u89c4\\u5b9a\\u3002\\n\\n**\\u7b2c\\u56db\\u767e\\u4e94\\u5341\\u4e09\\u6761** \\u4ee5\\u53ef\\u4ee5\\u8f6c\\u8ba9\\u7684\\u6ce8\\u518c\\u5546\\u6807\\u4e13\\u7528\\u6743\\u3001\\u4e13\\u5229\\u6743\\u3001\\u8457\\u4f5c\\u6743\\u7b49\\u77e5\\u8bc6\\u4ea7\\u6743\\u4e2d\\u7684\\u8d22\\u4ea7\\u6743\\u51fa\\u8d28\\u7684\\uff0c\\u5f53\\u4e8b\\u4eba\\u5e94\\u5f53\\u8ba2\\u7acb\\u4e66\\u9762\\u5408\\u540c\\u3002\\u8d28\\u6743\\u81ea\\u6743\\u5229\\u8d28\\u62bc\\u767b\\u8bb0\\u4e8e\\u76f8\\u5173\\u90e8\\u95e8\\u65f6\\u8bbe\\u7acb\\u3002\\n\\n**\\u7b2c\\u56db\\u767e\\u4e94\\u5341\\u56db\\u6761** \\u4ee5\\u5e94\\u6536\\u8d26\\u6b3e\\u51fa\\u8d28\\u7684\\uff0c\\u5f53\\u4e8b\\u4eba\\u5e94\\u5f53\\u8ba2\\u7acb\\u4e66\\u9762\\u5408\\u540c\\u3002\\u8d28\\u6743\\u81ea\\u5e94\\u6536\\u8d26\\u6b3e\\u8d28\\u62bc\\u767b\\u8bb0\\u4e8e\\u4e2d\\u56fd\\u4eba\\u6c11\\u94f6\\u884c\\u5f81\\u4fe1\\u4e2d\\u5fc3\\u65f6\\u8bbe\\u7acb\\u3002\\n\\n**\\u7b2c\\u56db\\u767e\\u4e94\\u5341\\u4e94\\u6761** \\u4ee5\\u6cd5\\u5f8b\\u3001\\u884c\\u653f\\u6cd5\\u89c4\\u89c4\\u5b9a\\u53ef\\u4ee5\\u51fa\\u8d28\\u7684\\u5176\\u4ed6\\u8d22\\u4ea7\\u6743\\u5229\\u51fa\\u8d28\\u7684\\uff0c\\u4f9d\\u7167\\u6cd5\\u5f8b\\u3001\\u884c\\u653f\\u6cd5\\u89c4\\u7684\\u89c4\\u5b9a\\u3002\\n\\n**\\u7b2c\\u56db\\u767e\\u4e94\\u5341\\u516d\\u6761** \\u6743\\u5229\\u8d28\\u6743\\u9664\\u9002\\u7528\\u672c\\u8282\\u89c4\\u5b9a\\u5916\\uff0c\\u53c2\\u7167\\u9002\\u7528\\u672c\\u7ae0\\u52a8\\u4ea7\\u8d28\\u6743\\u7684\\u6709\\u5173\\u89c4\\u5b9a\\u3002\\n\\n####\",\n",
      "        0.5430306196212769\n",
      "    ],\n",
      "    [\n",
      "        \"\\u7b2c\\u4e09\\u7ae0 \\u5408\\u540c\\u7684\\u53d8\\u66f4\\u548c\\u8f6c\\u8ba9\\n\\n**\\u7b2c\\u4e94\\u767e\\u56db\\u5341\\u516b\\u6761** \\u5f53\\u4e8b\\u4eba\\u534f\\u5546\\u4e00\\u81f4\\uff0c\\u53ef\\u4ee5\\u53d8\\u66f4\\u5408\\u540c\\u3002\\n\\n**\\u7b2c\\u4e94\\u767e\\u56db\\u5341\\u4e5d\\u6761** \\u5f53\\u4e8b\\u4eba\\u5bf9\\u5408\\u540c\\u53d8\\u66f4\\u7684\\u5185\\u5bb9\\u7ea6\\u5b9a\\u4e0d\\u660e\\u786e\\u7684\\uff0c\\u63a8\\u5b9a\\u4e3a\\u672a\\u53d8\\u66f4\\u3002\\n\\n**\\u7b2c\\u4e94\\u767e\\u4e94\\u5341\\u6761** \\u503a\\u6743\\u4eba\\u53ef\\u4ee5\\u5c06\\u5408\\u540c\\u7684\\u6743\\u5229\\u5168\\u90e8\\u6216\\u8005\\u90e8\\u5206\\u8f6c\\u8ba9\\u7ed9\\u7b2c\\u4e09\\u4eba\\uff0c\\u4f46\\u662f\\u6709\\u4e0b\\u5217\\u60c5\\u5f62\\u4e4b\\u4e00\\u7684\\u9664\\u5916\\uff1a\\n\\uff08\\u4e00\\uff09\\u6839\\u636e\\u5408\\u540c\\u6027\\u8d28\\u4e0d\\u5f97\\u8f6c\\u8ba9\\uff1b\\n\\uff08\\u4e8c\\uff09\\u6309\\u7167\\u5f53\\u4e8b\\u4eba\\u7ea6\\u5b9a\\u4e0d\\u5f97\\u8f6c\\u8ba9\\uff1b\\n\\uff08\\u4e09\\uff09\\u4f9d\\u7167\\u6cd5\\u5f8b\\u89c4\\u5b9a\\u4e0d\\u5f97\\u8f6c\\u8ba9\\u3002\\n\\u503a\\u6743\\u4eba\\u8f6c\\u8ba9\\u6743\\u5229\\u7684\\uff0c\\u5e94\\u5f53\\u901a\\u77e5\\u503a\\u52a1\\u4eba\\u3002\\u672a\\u7ecf\\u901a\\u77e5\\uff0c\\u8be5\\u8f6c\\u8ba9\\u5bf9\\u503a\\u52a1\\u4eba\\u4e0d\\u53d1\\u751f\\u6548\\u529b\\u3002\\n\\n**\\u7b2c\\u4e94\\u767e\\u4e94\\u5341\\u4e00\\u6761** \\u503a\\u6743\\u4eba\\u8f6c\\u8ba9\\u6743\\u5229\\u7684\\uff0c\\u53d7\\u8ba9\\u4eba\\u53d6\\u5f97\\u4e0e\\u503a\\u6743\\u6709\\u5173\\u7684\\u4ece\\u6743\\u5229\\uff0c\\u4f46\\u662f\\u8be5\\u4ece\\u6743\\u5229\\u4e13\\u5c5e\\u4e8e\\u503a\\u6743\\u4eba\\u81ea\\u8eab\\u7684\\u9664\\u5916\\u3002\\n\\n**\\u7b2c\\u4e94\\u767e\\u4e94\\u5341\\u4e8c\\u6761** \\u503a\\u52a1\\u4eba\\u5c06\\u5408\\u540c\\u7684\\u4e49\\u52a1\\u5168\\u90e8\\u6216\\u8005\\u90e8\\u5206\\u8f6c\\u8ba9\\u7ed9\\u7b2c\\u4e09\\u4eba\\u7684\\uff0c\\u5e94\\u5f53\\u7ecf\\u503a\\u6743\\u4eba\\u540c\\u610f\\u3002\\n\\n**\\u7b2c\\u4e94\\u767e\\u4e94\\u5341\\u4e09\\u6761** \\u503a\\u52a1\\u4eba\\u8f6c\\u8ba9\\u4e49\\u52a1\\u7684\\uff0c\\u65b0\\u503a\\u52a1\\u4eba\\u53ef\\u4ee5\\u4e3b\\u5f20\\u539f\\u503a\\u52a1\\u4eba\\u5bf9\\u503a\\u6743\\u4eba\\u7684\\u6297\\u8fa9\\u3002\\n\\u65b0\\u503a\\u52a1\\u4eba\\u627f\\u62c5\\u503a\\u52a1\\u7684\\uff0c\\u5e94\\u5f53\\u627f\\u62c5\\u4e0e\\u4e3b\\u503a\\u52a1\\u6709\\u5173\\u7684\\u4ece\\u503a\\u52a1\\uff0c\\u4f46\\u662f\\u8be5\\u4ece\\u503a\\u52a1\\u4e13\\u5c5e\\u4e8e\\u539f\\u503a\\u52a1\\u4eba\\u81ea\\u8eab\\u7684\\u9664\\u5916\\u3002\\n\\n**\\u7b2c\\u4e94\\u767e\\u4e94\\u5341\\u56db\\u6761** \\u5f53\\u4e8b\\u4eba\\u4e00\\u65b9\\u7ecf\\u5bf9\\u65b9\\u540c\\u610f\\uff0c\\u53ef\\u4ee5\\u5c06\\u81ea\\u5df1\\u5728\\u5408\\u540c\\u4e2d\\u7684\\u6743\\u5229\\u548c\\u4e49\\u52a1\\u4e00\\u5e76\\u8f6c\\u8ba9\\u7ed9\\u7b2c\\u4e09\\u4eba\\u3002\\n\\n**\\u7b2c\\u4e94\\u767e\\u4e94\\u5341\\u4e94\\u6761** \\u6743\\u5229\\u548c\\u4e49\\u52a1\\u4e00\\u5e76\\u8f6c\\u8ba9\\u7684\\uff0c\\u9002\\u7528\\u503a\\u6743\\u8f6c\\u8ba9\\u3001\\u503a\\u52a1\\u8f6c\\u8ba9\\u7684\\u6709\\u5173\\u89c4\\u5b9a\\u3002\\n\\n**\\u7b2c\\u4e94\\u767e\\u4e94\\u5341\\u516d\\u6761** \\u5408\\u540c\\u53d8\\u66f4\\u7684\\uff0c\\u4e0d\\u5f71\\u54cd\\u5f53\\u4e8b\\u4eba\\u8bf7\\u6c42\\u635f\\u5bb3\\u8d54\\u507f\\u7684\\u6743\\u5229\\u3002\\n\\n###\",\n",
      "        0.5375261306762695\n",
      "    ],\n",
      "    [\n",
      "        \"\\u7b2c\\u4e94\\u8282 \\u5c45\\u4f4f\\u6743\\n\\n**\\u7b2c\\u4e09\\u767e\\u516b\\u5341\\u4e8c\\u6761** \\u5c45\\u4f4f\\u6743\\u4eba\\u6709\\u6743\\u4f9d\\u7167\\u5408\\u540c\\u7ea6\\u5b9a\\u6216\\u8005\\u9057\\u5631\\uff0c\\u5bf9\\u4ed6\\u4eba\\u7684\\u4f4f\\u5b85\\u4eab\\u6709\\u5360\\u6709\\u3001\\u4f7f\\u7528\\u7684\\u6743\\u5229\\uff0c\\u4ee5\\u6ee1\\u8db3\\u751f\\u6d3b\\u5c45\\u4f4f\\u7684\\u9700\\u8981\\u3002\\n\\n**\\u7b2c\\u4e09\\u767e\\u516b\\u5341\\u4e09\\u6761** \\u8bbe\\u7acb\\u5c45\\u4f4f\\u6743\\uff0c\\u5f53\\u4e8b\\u4eba\\u5e94\\u5f53\\u4f9d\\u7167\\u6cd5\\u5f8b\\u89c4\\u5b9a\\u529e\\u7406\\u767b\\u8bb0\\u3002\\n\\u672a\\u7ecf\\u767b\\u8bb0\\uff0c\\u4e0d\\u53d1\\u751f\\u7269\\u6743\\u6548\\u529b\\u3002\\n\\n**\\u7b2c\\u4e09\\u767e\\u516b\\u5341\\u56db\\u6761** \\u5c45\\u4f4f\\u6743\\u4e0d\\u5f97\\u8f6c\\u8ba9\\u3001\\u7ee7\\u627f\\u3002\\n\\u8bbe\\u7acb\\u5c45\\u4f4f\\u6743\\u7684\\u4f4f\\u5b85\\u4e0d\\u5f97\\u51fa\\u79df\\uff0c\\u4f46\\u662f\\u5f53\\u4e8b\\u4eba\\u53e6\\u6709\\u7ea6\\u5b9a\\u7684\\u9664\\u5916\\u3002\\n\\n**\\u7b2c\\u4e09\\u767e\\u516b\\u5341\\u4e94\\u6761** \\u5c45\\u4f4f\\u6743\\u671f\\u95f4\\u5c4a\\u6ee1\\u6216\\u8005\\u5c45\\u4f4f\\u6743\\u4eba\\u6b7b\\u4ea1\\u7684\\uff0c\\u5c45\\u4f4f\\u6743\\u6d88\\u706d\\u3002\\n\\u5c45\\u4f4f\\u6743\\u6d88\\u706d\\u7684\\uff0c\\u767b\\u8bb0\\u673a\\u6784\\u5e94\\u5f53\\u4f9d\\u6cd5\\u529e\\u7406\\u6ce8\\u9500\\u767b\\u8bb0\\u3002\\n\\n**\\u7b2c\\u4e09\\u767e\\u516b\\u5341\\u516d\\u6761** \\u5c45\\u4f4f\\u6743\\u4eba\\u6709\\u6743\\u5bf9\\u5c45\\u4f4f\\u6743\\u7684\\u4f4f\\u5b85\\u8fdb\\u884c\\u7ef4\\u4fee\\u3001\\u517b\\u62a4\\uff0c\\u4f46\\u4e0d\\u5f97\\u6539\\u53d8\\u4f4f\\u5b85\\u7684\\u7528\\u9014\\u3002\\n\\u5c45\\u4f4f\\u6743\\u4eba\\u5bf9\\u5c45\\u4f4f\\u6743\\u7684\\u4f4f\\u5b85\\u4eab\\u6709\\u5360\\u6709\\u3001\\u4f7f\\u7528\\u7684\\u6743\\u5229\\u3002\\n\\n**\\u7b2c\\u4e09\\u767e\\u516b\\u5341\\u4e03\\u6761** \\u5c45\\u4f4f\\u6743\\u4eba\\u6709\\u6743\\u4f9d\\u7167\\u5408\\u540c\\u7ea6\\u5b9a\\u6216\\u8005\\u9057\\u5631\\uff0c\\u5bf9\\u4ed6\\u4eba\\u7684\\u4f4f\\u5b85\\u4eab\\u6709\\u5360\\u6709\\u3001\\u4f7f\\u7528\\u7684\\u6743\\u5229\\uff0c\\u4ee5\\u6ee1\\u8db3\\u751f\\u6d3b\\u5c45\\u4f4f\\u7684\\u9700\\u8981\\u3002\\n\\n####\",\n",
      "        0.531559944152832\n",
      "    ]\n",
      "]\n"
     ]
    }
   ],
   "source": [
    "import json\n",
    "\n",
    "retrieved_lines_with_distances = [\n",
    "    (res[\"entity\"][\"text\"], res[\"distance\"]) for res in search_res[0]\n",
    "]\n",
    "print(json.dumps(retrieved_lines_with_distances, indent=4))"
   ]
  },
  {
   "cell_type": "code",
   "execution_count": 19,
   "id": "df4894bd-a1b0-402b-8679-e39f939157f7",
   "metadata": {},
   "outputs": [],
   "source": [
    "context = \"\\n\".join(\n",
    "    [line_with_distance[0] for line_with_distance in retrieved_lines_with_distances]\n",
    ")"
   ]
  },
  {
   "cell_type": "code",
   "execution_count": 20,
   "id": "83a06353-dfd4-4ec0-ab7a-ae07040a97ae",
   "metadata": {},
   "outputs": [
    {
     "data": {
      "text/plain": [
       "'二、权利质权\\n\\n**第四百四十九条** 可以出质的权利包括：\\n（一）汇票、本票、支票；\\n（二）债券、存款单；\\n（三）仓单、提单；\\n（四）可以转让的基金份额、股权；\\n（五）可以转让的注册商标专用权、专利权、著作权等知识产权中的财产权；\\n（六）应收账款；\\n（七）法律、行政法规规定可以出质的其他财产权利。\\n\\n**第四百五十条** 以汇票、本票、支票、债券、存款单、仓单、提单出质的，当事人应当订立书面合同。质权自权利凭证交付之日起设立。\\n\\n**第四百五十一条** 以记名股票出质的，当事人应当订立书面合同。质权自股票交付之日起设立。\\n以未上市公司股权出质的，适用公司法有关股权转让的规定。\\n\\n**第四百五十二条** 以可以转让的基金份额、股权出质的，当事人应当订立书面合同。质权自基金份额、股权登记于证券登记结算机构或者公司章程载明的股权登记簿时设立。\\n以未上市公司股权出质的，适用公司法有关股权转让的规定。\\n\\n**第四百五十三条** 以可以转让的注册商标专用权、专利权、著作权等知识产权中的财产权出质的，当事人应当订立书面合同。质权自权利质押登记于相关部门时设立。\\n\\n**第四百五十四条** 以应收账款出质的，当事人应当订立书面合同。质权自应收账款质押登记于中国人民银行征信中心时设立。\\n\\n**第四百五十五条** 以法律、行政法规规定可以出质的其他财产权利出质的，依照法律、行政法规的规定。\\n\\n**第四百五十六条** 权利质权除适用本节规定外，参照适用本章动产质权的有关规定。\\n\\n####\\n第三章 合同的变更和转让\\n\\n**第五百四十八条** 当事人协商一致，可以变更合同。\\n\\n**第五百四十九条** 当事人对合同变更的内容约定不明确的，推定为未变更。\\n\\n**第五百五十条** 债权人可以将合同的权利全部或者部分转让给第三人，但是有下列情形之一的除外：\\n（一）根据合同性质不得转让；\\n（二）按照当事人约定不得转让；\\n（三）依照法律规定不得转让。\\n债权人转让权利的，应当通知债务人。未经通知，该转让对债务人不发生效力。\\n\\n**第五百五十一条** 债权人转让权利的，受让人取得与债权有关的从权利，但是该从权利专属于债权人自身的除外。\\n\\n**第五百五十二条** 债务人将合同的义务全部或者部分转让给第三人的，应当经债权人同意。\\n\\n**第五百五十三条** 债务人转让义务的，新债务人可以主张原债务人对债权人的抗辩。\\n新债务人承担债务的，应当承担与主债务有关的从债务，但是该从债务专属于原债务人自身的除外。\\n\\n**第五百五十四条** 当事人一方经对方同意，可以将自己在合同中的权利和义务一并转让给第三人。\\n\\n**第五百五十五条** 权利和义务一并转让的，适用债权转让、债务转让的有关规定。\\n\\n**第五百五十六条** 合同变更的，不影响当事人请求损害赔偿的权利。\\n\\n###\\n第五节 居住权\\n\\n**第三百八十二条** 居住权人有权依照合同约定或者遗嘱，对他人的住宅享有占有、使用的权利，以满足生活居住的需要。\\n\\n**第三百八十三条** 设立居住权，当事人应当依照法律规定办理登记。\\n未经登记，不发生物权效力。\\n\\n**第三百八十四条** 居住权不得转让、继承。\\n设立居住权的住宅不得出租，但是当事人另有约定的除外。\\n\\n**第三百八十五条** 居住权期间届满或者居住权人死亡的，居住权消灭。\\n居住权消灭的，登记机构应当依法办理注销登记。\\n\\n**第三百八十六条** 居住权人有权对居住权的住宅进行维修、养护，但不得改变住宅的用途。\\n居住权人对居住权的住宅享有占有、使用的权利。\\n\\n**第三百八十七条** 居住权人有权依照合同约定或者遗嘱，对他人的住宅享有占有、使用的权利，以满足生活居住的需要。\\n\\n####'"
      ]
     },
     "execution_count": 20,
     "metadata": {},
     "output_type": "execute_result"
    }
   ],
   "source": [
    "context"
   ]
  },
  {
   "cell_type": "code",
   "execution_count": 29,
   "id": "34d1b92e-3d91-453d-b0d7-4dd4097f5103",
   "metadata": {},
   "outputs": [],
   "source": [
    "SYSTEM_PROMPT = \"\"\"\n",
    "Human: 你是一个优秀的 AI 法律助手。你能够从提供的上下文段落片段中找到问题的答案，并给予我合理的反馈信息。\n",
    "\"\"\"\n",
    "USER_PROMPT = f\"\"\"\n",
    "请使用以下用 <context> 标签括起来的信息片段回答用 <questions> 标签括起来的不同问题。最后分开追加原始回答的中文建议在output标签中，分别在不同的question标签后用 <suggestion>和</suggestion> 标签标注建议和具体的<context>标签中标注的法律条文，全文均用中文作答。\n",
    "<context>\n",
    "{context}\n",
    "</context>\n",
    "<questions>\n",
    "{question1},{question2}\n",
    "</questions>\n",
    "<output>\n",
    "  <question>\n",
    "   {question1}   \n",
    "  </question>\n",
    "  <suggestion>\n",
    "  </suggestion>\n",
    "  <question>\n",
    "  {question2}  \n",
    "  </question>\n",
    "  <suggestion>\n",
    "  </suggestion> \n",
    "</output>\n",
    "\"\"\""
   ]
  },
  {
   "cell_type": "code",
   "execution_count": 30,
   "id": "e644bc07-45df-4a58-9fb0-3cb3e77dfe76",
   "metadata": {},
   "outputs": [
    {
     "data": {
      "text/plain": [
       "'\\n请使用以下用 <context> 标签括起来的信息片段回答用 <questions> 标签括起来的不同问题。最后分开追加原始回答的中文建议在output标签中，分别在不同的question标签后用 <suggestion>和</suggestion> 标签标注建议和具体的<context>标签中标注的法律条文，全文均用中文作答。\\n<context>\\n二、权利质权\\n\\n**第四百四十九条** 可以出质的权利包括：\\n（一）汇票、本票、支票；\\n（二）债券、存款单；\\n（三）仓单、提单；\\n（四）可以转让的基金份额、股权；\\n（五）可以转让的注册商标专用权、专利权、著作权等知识产权中的财产权；\\n（六）应收账款；\\n（七）法律、行政法规规定可以出质的其他财产权利。\\n\\n**第四百五十条** 以汇票、本票、支票、债券、存款单、仓单、提单出质的，当事人应当订立书面合同。质权自权利凭证交付之日起设立。\\n\\n**第四百五十一条** 以记名股票出质的，当事人应当订立书面合同。质权自股票交付之日起设立。\\n以未上市公司股权出质的，适用公司法有关股权转让的规定。\\n\\n**第四百五十二条** 以可以转让的基金份额、股权出质的，当事人应当订立书面合同。质权自基金份额、股权登记于证券登记结算机构或者公司章程载明的股权登记簿时设立。\\n以未上市公司股权出质的，适用公司法有关股权转让的规定。\\n\\n**第四百五十三条** 以可以转让的注册商标专用权、专利权、著作权等知识产权中的财产权出质的，当事人应当订立书面合同。质权自权利质押登记于相关部门时设立。\\n\\n**第四百五十四条** 以应收账款出质的，当事人应当订立书面合同。质权自应收账款质押登记于中国人民银行征信中心时设立。\\n\\n**第四百五十五条** 以法律、行政法规规定可以出质的其他财产权利出质的，依照法律、行政法规的规定。\\n\\n**第四百五十六条** 权利质权除适用本节规定外，参照适用本章动产质权的有关规定。\\n\\n####\\n第三章 合同的变更和转让\\n\\n**第五百四十八条** 当事人协商一致，可以变更合同。\\n\\n**第五百四十九条** 当事人对合同变更的内容约定不明确的，推定为未变更。\\n\\n**第五百五十条** 债权人可以将合同的权利全部或者部分转让给第三人，但是有下列情形之一的除外：\\n（一）根据合同性质不得转让；\\n（二）按照当事人约定不得转让；\\n（三）依照法律规定不得转让。\\n债权人转让权利的，应当通知债务人。未经通知，该转让对债务人不发生效力。\\n\\n**第五百五十一条** 债权人转让权利的，受让人取得与债权有关的从权利，但是该从权利专属于债权人自身的除外。\\n\\n**第五百五十二条** 债务人将合同的义务全部或者部分转让给第三人的，应当经债权人同意。\\n\\n**第五百五十三条** 债务人转让义务的，新债务人可以主张原债务人对债权人的抗辩。\\n新债务人承担债务的，应当承担与主债务有关的从债务，但是该从债务专属于原债务人自身的除外。\\n\\n**第五百五十四条** 当事人一方经对方同意，可以将自己在合同中的权利和义务一并转让给第三人。\\n\\n**第五百五十五条** 权利和义务一并转让的，适用债权转让、债务转让的有关规定。\\n\\n**第五百五十六条** 合同变更的，不影响当事人请求损害赔偿的权利。\\n\\n###\\n第五节 居住权\\n\\n**第三百八十二条** 居住权人有权依照合同约定或者遗嘱，对他人的住宅享有占有、使用的权利，以满足生活居住的需要。\\n\\n**第三百八十三条** 设立居住权，当事人应当依照法律规定办理登记。\\n未经登记，不发生物权效力。\\n\\n**第三百八十四条** 居住权不得转让、继承。\\n设立居住权的住宅不得出租，但是当事人另有约定的除外。\\n\\n**第三百八十五条** 居住权期间届满或者居住权人死亡的，居住权消灭。\\n居住权消灭的，登记机构应当依法办理注销登记。\\n\\n**第三百八十六条** 居住权人有权对居住权的住宅进行维修、养护，但不得改变住宅的用途。\\n居住权人对居住权的住宅享有占有、使用的权利。\\n\\n**第三百八十七条** 居住权人有权依照合同约定或者遗嘱，对他人的住宅享有占有、使用的权利，以满足生活居住的需要。\\n\\n####\\n</context>\\n<questions>\\n我们小区的垃圾桶被小孩弄坏，应该如何用法律教育他们？,父母留给我的遗产被银行抢占，说未能提供父母是我父母的法律条文，怎么办？\\n</questions>\\n<output>\\n  <question>\\n   我们小区的垃圾桶被小孩弄坏，应该如何用法律教育他们？   \\n  </question>\\n  <suggestion>\\n  </suggestion>\\n  <question>\\n  父母留给我的遗产被银行抢占，说未能提供父母是我父母的法律条文，怎么办？  \\n  </question>\\n  <suggestion>\\n  </suggestion> \\n</output>\\n'"
      ]
     },
     "execution_count": 30,
     "metadata": {},
     "output_type": "execute_result"
    }
   ],
   "source": [
    "USER_PROMPT"
   ]
  },
  {
   "cell_type": "code",
   "execution_count": 31,
   "id": "a676cc9a-5ff6-449b-ae5a-013d038037ea",
   "metadata": {},
   "outputs": [
    {
     "name": "stdout",
     "output_type": "stream",
     "text": [
      "<output>\n",
      "  <question>\n",
      "   我们小区的垃圾桶被小孩弄坏，应该如何用法律教育他们？   \n",
      "  </question>\n",
      "  <suggestion>\n",
      "建议依据《民法典》侵权责任编相关规定处理：\n",
      "1. 监护人责任：根据第一千一百八十八条，无民事行为能力人、限制民事行为能力人造成他人损害的，由监护人承担侵权责任。可要求其父母赔偿垃圾桶维修费用。\n",
      "2. 财产保护：根据第一千一百六十五条，行为人因过错侵害他人民事权益造成损害的，应当承担侵权责任。可通过物业公司向监护人主张财产损害赔偿。\n",
      "3. 教育方式：建议联合社区、学校开展普法教育，讲解《治安管理处罚法》第四十九条关于故意损毁公私财物的规定，培养未成年人法治意识。\n",
      "  </suggestion>\n",
      "\n",
      "  <question>\n",
      "  父母留给我的遗产被银行抢占，说未能提供父母是我父母的法律条文，怎么办？  \n",
      "  </question>\n",
      "  <suggestion>\n",
      "建议采取以下法律措施：\n",
      "1. 举证责任：根据《民法典》继承编第一千一百三十九条，继承人应当提供继承权证明。需准备：\n",
      "   - 亲属关系证明（户籍档案/出生医学证明）\n",
      "   - 父母死亡证明\n",
      "   - 遗嘱或法定继承文件\n",
      "\n",
      "2. 权利救济：\n",
      "   - 依据第一千一百四十二条，向法院提起继承权确认之诉\n",
      "   - 根据第一千一百六十七条，可申请财产保全防止银行处置遗产\n",
      "\n",
      "3. 特别提示：\n",
      "   - 银行存款继承需依据《储蓄管理条例》办理继承公证\n",
      "   - 若银行拒不配合，可向银保监会投诉（《商业银行法》第二十九条保护存款人合法权益）\n",
      "\n",
      "注：建议委托律师调取户籍登记等法定证据，此类材料具有最高证明效力。\n",
      "  </suggestion> \n",
      "</output>\n"
     ]
    }
   ],
   "source": [
    "response = deepseek_client.chat.completions.create(\n",
    "    model=\"deepseek-chat\",\n",
    "    messages=[\n",
    "        {\"role\": \"system\", \"content\": SYSTEM_PROMPT},\n",
    "        {\"role\": \"user\", \"content\": USER_PROMPT},\n",
    "    ],\n",
    ")\n",
    "print(response.choices[0].message.content)"
   ]
  },
  {
   "cell_type": "code",
   "execution_count": null,
   "id": "2099c9ef-0c18-4067-adbb-58b82f9628b1",
   "metadata": {},
   "outputs": [],
   "source": []
  }
 ],
 "metadata": {
  "kernelspec": {
   "display_name": "Python 3 (ipykernel)",
   "language": "python",
   "name": "python3"
  },
  "language_info": {
   "codemirror_mode": {
    "name": "ipython",
    "version": 3
   },
   "file_extension": ".py",
   "mimetype": "text/x-python",
   "name": "python",
   "nbconvert_exporter": "python",
   "pygments_lexer": "ipython3",
   "version": "3.13.4"
  }
 },
 "nbformat": 4,
 "nbformat_minor": 5
}
